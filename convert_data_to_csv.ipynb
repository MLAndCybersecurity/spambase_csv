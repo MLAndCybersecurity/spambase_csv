{
 "cells": [
  {
   "cell_type": "code",
   "execution_count": 18,
   "metadata": {},
   "outputs": [],
   "source": [
    "import pandas as pd\n",
    "import re\n",
    "names_path = './spambase.names'\n",
    "data_path = './spambase.data'\n",
    "save_name = 'spambase.csv'\n"
   ]
  },
  {
   "cell_type": "code",
   "execution_count": 19,
   "metadata": {},
   "outputs": [],
   "source": [
    "import re\n",
    "\n",
    "def extract_columns(file_path):\n",
    "    columns = []\n",
    "    pattern = re.compile(r'(continuous|integer|real|nominal)', re.IGNORECASE)\n",
    "\n",
    "    with open(file_path, 'r') as file:\n",
    "        for line in file:\n",
    "            line = line.strip()\n",
    "            if line == '' or line.startswith('|'):\n",
    "                continue\n",
    "            \n",
    "            match = pattern.search(line)\n",
    "            if match:\n",
    "                name = line.split()[0].rstrip(':').strip()\n",
    "                columns.append(name)\n",
    "\n",
    "    columns.append('class')\n",
    "    return columns"
   ]
  },
  {
   "cell_type": "code",
   "execution_count": 20,
   "metadata": {},
   "outputs": [
    {
     "name": "stdout",
     "output_type": "stream",
     "text": [
      "Conversão concluída! Arquivo salvo como spambase.csv\n"
     ]
    }
   ],
   "source": [
    "columns = extract_columns(names_path)\n",
    "df = pd.read_csv(data_path, header=None)\n",
    "\n",
    "if len(columns) != df.shape[1]:\n",
    "    raise ValueError(f\"Número de colunas diferente do espaço de características: {len(columns)} colunas vs {df.shape[1]} colunas nos dados.\")\n",
    "\n",
    "df.columns = columns\n",
    "df['class'] = df['class'].map({0: 'ham', 1: 'spam'})\n",
    "df.to_csv(save_name, index=False)\n",
    "print(f\"Conversão concluída! Arquivo salvo como {save_name}\")\n"
   ]
  }
 ],
 "metadata": {
  "kernelspec": {
   "display_name": "venv",
   "language": "python",
   "name": "python3"
  },
  "language_info": {
   "codemirror_mode": {
    "name": "ipython",
    "version": 3
   },
   "file_extension": ".py",
   "mimetype": "text/x-python",
   "name": "python",
   "nbconvert_exporter": "python",
   "pygments_lexer": "ipython3",
   "version": "3.12.3"
  }
 },
 "nbformat": 4,
 "nbformat_minor": 2
}
